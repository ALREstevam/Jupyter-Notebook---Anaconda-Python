{
 "cells": [
  {
   "cell_type": "code",
   "execution_count": 1,
   "metadata": {
    "collapsed": true
   },
   "outputs": [],
   "source": [
    "import pandas as pd\n",
    "import numpy as np\n",
    "import matplotlib.pyplot as plt\n",
    "from unicodedata import normalize\n",
    "import zipfile\n",
    "import urllib\n",
    "import urllib.request\n",
    "import matplotlib.pyplot as plt\n",
    "from sklearn import cluster, datasets\n",
    "from mpl_toolkits.mplot3d import Axes3D\n",
    "#matplotlib.style.use('ggplot')\n",
    "%matplotlib inline\n",
    "\n",
    "link = r\"http://transparencia.tce.sp.gov.br/sites/municipal/files/csv/despesas-limeira-2017.zip\"\n",
    "\n",
    "OriginalFileName = r\"C:\\Python27\\despesas-limeira-2017.zip.csv\"\n",
    "NewFileName = r\"formatado.csv\""
   ]
  },
  {
   "cell_type": "code",
   "execution_count": 2,
   "metadata": {},
   "outputs": [],
   "source": [
    "urllib.request.urlretrieve(r\"http://transparencia.tce.sp.gov.br/sites/municipal/files/csv/despesas-limeira-2017.zip\", r\"C:\\Users\\andre\\Desktop\\ComprasLicitacoes.zip\")\n",
    "zip_ref = zipfile.ZipFile(r\"C:\\Users\\andre\\Desktop\\ComprasLicitacoes.zip\", 'r')\n",
    "zip_ref.extractall(r\"C:\\Python27\")\n",
    "zip_ref.close()"
   ]
  },
  {
   "cell_type": "code",
   "execution_count": 3,
   "metadata": {
    "collapsed": true
   },
   "outputs": [],
   "source": [
    "def remover_acentos(txt):\n",
    "    return normalize('NFKD', txt).encode('ASCII','ignore').decode('ASCII')"
   ]
  },
  {
   "cell_type": "code",
   "execution_count": 4,
   "metadata": {},
   "outputs": [],
   "source": [
    "with open(OriginalFileName, 'r') as file :\n",
    "  filedata = file.read()\n",
    "\n",
    "filedata = filedata.replace(',', '.')\n",
    "filedata = remover_acentos(filedata)\n",
    "\n",
    "with open(NewFileName, 'w') as file:\n",
    "  file.write(filedata)"
   ]
  },
  {
   "cell_type": "code",
   "execution_count": 5,
   "metadata": {},
   "outputs": [],
   "source": [
    "data = pd.read_csv(NewFileName, sep=';')\n",
    "pd.to_numeric(data.vl_despesa, errors='coerce')\n",
    "df = pd.DataFrame(data)"
   ]
  },
  {
   "cell_type": "code",
   "execution_count": 6,
   "metadata": {
    "collapsed": true
   },
   "outputs": [],
   "source": [
    "uniques = df.ds_acao.unique()"
   ]
  },
  {
   "cell_type": "code",
   "execution_count": 7,
   "metadata": {},
   "outputs": [
    {
     "data": {
      "text/html": [
       "<div>\n",
       "<style>\n",
       "    .dataframe thead tr:only-child th {\n",
       "        text-align: right;\n",
       "    }\n",
       "\n",
       "    .dataframe thead th {\n",
       "        text-align: left;\n",
       "    }\n",
       "\n",
       "    .dataframe tbody tr th {\n",
       "        vertical-align: top;\n",
       "    }\n",
       "</style>\n",
       "<table border=\"1\" class=\"dataframe\">\n",
       "  <thead>\n",
       "    <tr style=\"text-align: right;\">\n",
       "      <th></th>\n",
       "      <th>id_despesa_detalhe</th>\n",
       "      <th>ano_exercicio</th>\n",
       "      <th>ds_municipio</th>\n",
       "      <th>ds_orgao</th>\n",
       "      <th>mes_referencia</th>\n",
       "      <th>mes_ref_extenso</th>\n",
       "      <th>tp_despesa</th>\n",
       "      <th>nr_empenho</th>\n",
       "      <th>identificador_despesa</th>\n",
       "      <th>ds_despesa</th>\n",
       "      <th>...</th>\n",
       "      <th>ds_subfuncao_governo</th>\n",
       "      <th>cd_programa</th>\n",
       "      <th>ds_programa</th>\n",
       "      <th>cd_acao</th>\n",
       "      <th>ds_acao</th>\n",
       "      <th>ds_fonte_recurso</th>\n",
       "      <th>ds_cd_aplicacao_fixo</th>\n",
       "      <th>ds_modalidade_lic</th>\n",
       "      <th>ds_elemento</th>\n",
       "      <th>historico_despesa</th>\n",
       "    </tr>\n",
       "  </thead>\n",
       "  <tbody>\n",
       "    <tr>\n",
       "      <th>0</th>\n",
       "      <td>355697086</td>\n",
       "      <td>2017</td>\n",
       "      <td>Limeira</td>\n",
       "      <td>PREFEITURA MUNICIPAL DE LIMEIRA</td>\n",
       "      <td>2</td>\n",
       "      <td>fevereiro</td>\n",
       "      <td>Empenhado</td>\n",
       "      <td>2405-2017</td>\n",
       "      <td>CNPJ - PESSOA JURIDICA - 21459306000180</td>\n",
       "      <td>J.C. GASPARINI INSTALACOES - ME</td>\n",
       "      <td>...</td>\n",
       "      <td>TRANSPORTES COLETIVOS URBANOS</td>\n",
       "      <td>206</td>\n",
       "      <td>CIDADE SEGURA E CUIDADA</td>\n",
       "      <td>2190</td>\n",
       "      <td>GERENCIAMENTO DE TRANSITO</td>\n",
       "      <td>TESOURO - EXERCICIOS ANTERIORES</td>\n",
       "      <td>0100 - GERAL TOTAL</td>\n",
       "      <td>PREGAO</td>\n",
       "      <td>33903908 - MANUTENCAO DE SOFTWARE</td>\n",
       "      <td>SOFTWARE E HARDWARE SISTEMA ARRECADACAO PEDAGIO</td>\n",
       "    </tr>\n",
       "    <tr>\n",
       "      <th>1</th>\n",
       "      <td>356239797</td>\n",
       "      <td>2017</td>\n",
       "      <td>Limeira</td>\n",
       "      <td>PREFEITURA MUNICIPAL DE LIMEIRA</td>\n",
       "      <td>2</td>\n",
       "      <td>fevereiro</td>\n",
       "      <td>Valor Pago</td>\n",
       "      <td>2406-2017</td>\n",
       "      <td>CNPJ - PESSOA JURIDICA - 43035146001076</td>\n",
       "      <td>PROTEGE S A PROTECAO E TRANPORTE DE VALORES</td>\n",
       "      <td>...</td>\n",
       "      <td>TRANSPORTES COLETIVOS URBANOS</td>\n",
       "      <td>206</td>\n",
       "      <td>CIDADE SEGURA E CUIDADA</td>\n",
       "      <td>2190</td>\n",
       "      <td>GERENCIAMENTO DE TRANSITO</td>\n",
       "      <td>TESOURO - EXERCICIOS ANTERIORES</td>\n",
       "      <td>0100 - GERAL TOTAL</td>\n",
       "      <td>PREGAO</td>\n",
       "      <td>33903999 - OUTROS SERVICOS DE TERCEIROS - PESS...</td>\n",
       "      <td>COLETA E TRANSPORTE DE VALORES PEDAGIO MUNICIP...</td>\n",
       "    </tr>\n",
       "    <tr>\n",
       "      <th>2</th>\n",
       "      <td>367579437</td>\n",
       "      <td>2017</td>\n",
       "      <td>Limeira</td>\n",
       "      <td>PREFEITURA MUNICIPAL DE LIMEIRA</td>\n",
       "      <td>6</td>\n",
       "      <td>junho</td>\n",
       "      <td>Valor Pago</td>\n",
       "      <td>879-2017</td>\n",
       "      <td>CNPJ - PESSOA JURIDICA - 52577707000169</td>\n",
       "      <td>ENGEP ENGENHARIA E PAVIMENTACAO LTDA</td>\n",
       "      <td>...</td>\n",
       "      <td>SERVICOS URBNOS</td>\n",
       "      <td>206</td>\n",
       "      <td>CIDADE SEGURA E CUIDADA</td>\n",
       "      <td>2160</td>\n",
       "      <td>CONSERVACAO E MANUTENCAO DE VIAS E PASSEIOS PU...</td>\n",
       "      <td>TESOURO</td>\n",
       "      <td>0100 - GERAL TOTAL</td>\n",
       "      <td>CONCORRENCIA</td>\n",
       "      <td>33903999 - OUTROS SERVICOS DE TERCEIROS - PESS...</td>\n",
       "      <td>MANUTENCAO E CONSERVACAO EM DIVERSOS LOCAIS DO...</td>\n",
       "    </tr>\n",
       "    <tr>\n",
       "      <th>3</th>\n",
       "      <td>356241468</td>\n",
       "      <td>2017</td>\n",
       "      <td>Limeira</td>\n",
       "      <td>PREFEITURA MUNICIPAL DE LIMEIRA</td>\n",
       "      <td>2</td>\n",
       "      <td>fevereiro</td>\n",
       "      <td>Valor Pago</td>\n",
       "      <td>2405-2017</td>\n",
       "      <td>CNPJ - PESSOA JURIDICA - 21459306000180</td>\n",
       "      <td>J.C. GASPARINI INSTALACOES - ME</td>\n",
       "      <td>...</td>\n",
       "      <td>TRANSPORTES COLETIVOS URBANOS</td>\n",
       "      <td>206</td>\n",
       "      <td>CIDADE SEGURA E CUIDADA</td>\n",
       "      <td>2190</td>\n",
       "      <td>GERENCIAMENTO DE TRANSITO</td>\n",
       "      <td>TESOURO - EXERCICIOS ANTERIORES</td>\n",
       "      <td>0100 - GERAL TOTAL</td>\n",
       "      <td>PREGAO</td>\n",
       "      <td>33903908 - MANUTENCAO DE SOFTWARE</td>\n",
       "      <td>SOFTWARE E HARDWARE SISTEMA ARRECADACAO PEDAGIO</td>\n",
       "    </tr>\n",
       "    <tr>\n",
       "      <th>4</th>\n",
       "      <td>364716621</td>\n",
       "      <td>2017</td>\n",
       "      <td>Limeira</td>\n",
       "      <td>PREFEITURA MUNICIPAL DE LIMEIRA</td>\n",
       "      <td>5</td>\n",
       "      <td>maio</td>\n",
       "      <td>Valor Pago</td>\n",
       "      <td>2729-2017</td>\n",
       "      <td>CNPJ - PESSOA JURIDICA - 43035146001076</td>\n",
       "      <td>PROTEGE S A PROTECAO E TRANPORTE DE VALORES</td>\n",
       "      <td>...</td>\n",
       "      <td>TRANSPORTES COLETIVOS URBANOS</td>\n",
       "      <td>206</td>\n",
       "      <td>CIDADE SEGURA E CUIDADA</td>\n",
       "      <td>2190</td>\n",
       "      <td>GERENCIAMENTO DE TRANSITO</td>\n",
       "      <td>TESOURO - EXERCICIOS ANTERIORES</td>\n",
       "      <td>0100 - GERAL TOTAL</td>\n",
       "      <td>PREGAO</td>\n",
       "      <td>33903974 - FRETES E TRANSPORTES DE ENCOMENDAS</td>\n",
       "      <td>COLETA E TRANSPORTE DE VALORES DO PEDA- GIO MU...</td>\n",
       "    </tr>\n",
       "  </tbody>\n",
       "</table>\n",
       "<p>5 rows × 23 columns</p>\n",
       "</div>"
      ],
      "text/plain": [
       "   id_despesa_detalhe  ano_exercicio ds_municipio  \\\n",
       "0           355697086           2017      Limeira   \n",
       "1           356239797           2017      Limeira   \n",
       "2           367579437           2017      Limeira   \n",
       "3           356241468           2017      Limeira   \n",
       "4           364716621           2017      Limeira   \n",
       "\n",
       "                          ds_orgao  mes_referencia mes_ref_extenso  \\\n",
       "0  PREFEITURA MUNICIPAL DE LIMEIRA               2       fevereiro   \n",
       "1  PREFEITURA MUNICIPAL DE LIMEIRA               2       fevereiro   \n",
       "2  PREFEITURA MUNICIPAL DE LIMEIRA               6           junho   \n",
       "3  PREFEITURA MUNICIPAL DE LIMEIRA               2       fevereiro   \n",
       "4  PREFEITURA MUNICIPAL DE LIMEIRA               5            maio   \n",
       "\n",
       "   tp_despesa nr_empenho                    identificador_despesa  \\\n",
       "0   Empenhado  2405-2017  CNPJ - PESSOA JURIDICA - 21459306000180   \n",
       "1  Valor Pago  2406-2017  CNPJ - PESSOA JURIDICA - 43035146001076   \n",
       "2  Valor Pago   879-2017  CNPJ - PESSOA JURIDICA - 52577707000169   \n",
       "3  Valor Pago  2405-2017  CNPJ - PESSOA JURIDICA - 21459306000180   \n",
       "4  Valor Pago  2729-2017  CNPJ - PESSOA JURIDICA - 43035146001076   \n",
       "\n",
       "                                    ds_despesa  \\\n",
       "0              J.C. GASPARINI INSTALACOES - ME   \n",
       "1  PROTEGE S A PROTECAO E TRANPORTE DE VALORES   \n",
       "2         ENGEP ENGENHARIA E PAVIMENTACAO LTDA   \n",
       "3              J.C. GASPARINI INSTALACOES - ME   \n",
       "4  PROTEGE S A PROTECAO E TRANPORTE DE VALORES   \n",
       "\n",
       "                         ...                          \\\n",
       "0                        ...                           \n",
       "1                        ...                           \n",
       "2                        ...                           \n",
       "3                        ...                           \n",
       "4                        ...                           \n",
       "\n",
       "            ds_subfuncao_governo  cd_programa              ds_programa  \\\n",
       "0  TRANSPORTES COLETIVOS URBANOS          206  CIDADE SEGURA E CUIDADA   \n",
       "1  TRANSPORTES COLETIVOS URBANOS          206  CIDADE SEGURA E CUIDADA   \n",
       "2                SERVICOS URBNOS          206  CIDADE SEGURA E CUIDADA   \n",
       "3  TRANSPORTES COLETIVOS URBANOS          206  CIDADE SEGURA E CUIDADA   \n",
       "4  TRANSPORTES COLETIVOS URBANOS          206  CIDADE SEGURA E CUIDADA   \n",
       "\n",
       "  cd_acao                                            ds_acao  \\\n",
       "0    2190                          GERENCIAMENTO DE TRANSITO   \n",
       "1    2190                          GERENCIAMENTO DE TRANSITO   \n",
       "2    2160  CONSERVACAO E MANUTENCAO DE VIAS E PASSEIOS PU...   \n",
       "3    2190                          GERENCIAMENTO DE TRANSITO   \n",
       "4    2190                          GERENCIAMENTO DE TRANSITO   \n",
       "\n",
       "                  ds_fonte_recurso  ds_cd_aplicacao_fixo ds_modalidade_lic  \\\n",
       "0  TESOURO - EXERCICIOS ANTERIORES    0100 - GERAL TOTAL            PREGAO   \n",
       "1  TESOURO - EXERCICIOS ANTERIORES    0100 - GERAL TOTAL            PREGAO   \n",
       "2                          TESOURO    0100 - GERAL TOTAL      CONCORRENCIA   \n",
       "3  TESOURO - EXERCICIOS ANTERIORES    0100 - GERAL TOTAL            PREGAO   \n",
       "4  TESOURO - EXERCICIOS ANTERIORES    0100 - GERAL TOTAL            PREGAO   \n",
       "\n",
       "                                         ds_elemento  \\\n",
       "0                  33903908 - MANUTENCAO DE SOFTWARE   \n",
       "1  33903999 - OUTROS SERVICOS DE TERCEIROS - PESS...   \n",
       "2  33903999 - OUTROS SERVICOS DE TERCEIROS - PESS...   \n",
       "3                  33903908 - MANUTENCAO DE SOFTWARE   \n",
       "4      33903974 - FRETES E TRANSPORTES DE ENCOMENDAS   \n",
       "\n",
       "                                   historico_despesa  \n",
       "0    SOFTWARE E HARDWARE SISTEMA ARRECADACAO PEDAGIO  \n",
       "1  COLETA E TRANSPORTE DE VALORES PEDAGIO MUNICIP...  \n",
       "2  MANUTENCAO E CONSERVACAO EM DIVERSOS LOCAIS DO...  \n",
       "3    SOFTWARE E HARDWARE SISTEMA ARRECADACAO PEDAGIO  \n",
       "4  COLETA E TRANSPORTE DE VALORES DO PEDA- GIO MU...  \n",
       "\n",
       "[5 rows x 23 columns]"
      ]
     },
     "execution_count": 7,
     "metadata": {},
     "output_type": "execute_result"
    }
   ],
   "source": [
    "data.head()"
   ]
  },
  {
   "cell_type": "code",
   "execution_count": 8,
   "metadata": {},
   "outputs": [],
   "source": [
    "#elem = data\n",
    "#elem.plot(x='id_despesa_detalhe', y='vl_despesa', kind='scatter', title=grpName, figsize=(10,5))"
   ]
  },
  {
   "cell_type": "code",
   "execution_count": 9,
   "metadata": {},
   "outputs": [],
   "source": [
    "#lem = df[df.ds_acao == uniques[0]]\n",
    "#fElem = pd.DataFrame(elem)\n",
    "#lem.plot(x='id_despesa_detalhe', y='vl_despesa', kind='scatter', title=grpName, figsize=(10,5))"
   ]
  },
  {
   "cell_type": "markdown",
   "metadata": {},
   "source": [
    "for grpName in uniques:\n",
    "    elem = df[df.ds_acao == grpName]\n",
    "    dfElem = pd.DataFrame(elem)\n",
    "    dfElem.describe()\n",
    "    \n",
    "    X_iris = elem.data\n",
    "    X_iris3D = X_iris[:,0:3] # todas as linhas e as colunas 0, 1 e 2.\n",
    "\n",
    "    dbscan = cluster.DBSCAN()\n",
    "    dbscan.fit(X_iris3D)\n",
    "\n",
    "\n",
    "    fig = plt.figure()\n",
    "    ax = fig.add_subplot(111, projection='3d') # 111 corresponde às coordendas i,j,k de possíveis subfiguras.\n",
    "    color = ['r','b','k'] # marcadores de cor\n",
    "    mark = ['s','o','^'] # marcadores simbólicos\n",
    "    for i in range(len(X_iris3D)):\n",
    "        ax.scatter(X_iris3D[i][0],X_iris3D[i][1],X_iris3D[i][2],c=color[dbscan.labels_[i]],marker=mark[dbscan.labels_[i]])\n",
    "\n",
    "    ax.set_xlabel('X Label') # rótulos dos eixos\n",
    "    ax.set_ylabel('Y Label')\n",
    "    ax.set_zlabel('Z Label')\n",
    "    plt.show()"
   ]
  },
  {
   "cell_type": "code",
   "execution_count": 17,
   "metadata": {},
   "outputs": [
    {
     "ename": "KeyError",
     "evalue": "0",
     "output_type": "error",
     "traceback": [
      "\u001b[1;31m---------------------------------------------------------------------------\u001b[0m",
      "\u001b[1;31mKeyError\u001b[0m                                  Traceback (most recent call last)",
      "\u001b[1;32m<ipython-input-17-8bab474f5ad6>\u001b[0m in \u001b[0;36m<module>\u001b[1;34m()\u001b[0m\n\u001b[0;32m      2\u001b[0m     \u001b[0melem\u001b[0m \u001b[1;33m=\u001b[0m \u001b[0mdf\u001b[0m\u001b[1;33m[\u001b[0m\u001b[0mdf\u001b[0m\u001b[1;33m.\u001b[0m\u001b[0mds_acao\u001b[0m \u001b[1;33m==\u001b[0m \u001b[0mgrpName\u001b[0m\u001b[1;33m]\u001b[0m\u001b[1;33m\u001b[0m\u001b[0m\n\u001b[0;32m      3\u001b[0m     \u001b[0mdfElem\u001b[0m \u001b[1;33m=\u001b[0m \u001b[0mpd\u001b[0m\u001b[1;33m.\u001b[0m\u001b[0mDataFrame\u001b[0m\u001b[1;33m(\u001b[0m\u001b[0melem\u001b[0m\u001b[1;33m)\u001b[0m\u001b[1;33m[\u001b[0m\u001b[1;34m'vl_despesa'\u001b[0m\u001b[1;33m]\u001b[0m\u001b[1;33m\u001b[0m\u001b[0m\n\u001b[1;32m----> 4\u001b[1;33m     \u001b[0mplt\u001b[0m\u001b[1;33m.\u001b[0m\u001b[0mboxplot\u001b[0m\u001b[1;33m(\u001b[0m\u001b[0mdfElem\u001b[0m\u001b[1;33m,\u001b[0m \u001b[1;36m0\u001b[0m\u001b[1;33m,\u001b[0m\u001b[1;34m'ro'\u001b[0m\u001b[1;33m,\u001b[0m \u001b[1;36m0\u001b[0m\u001b[1;33m,\u001b[0m \u001b[1;36m2.25\u001b[0m\u001b[1;33m)\u001b[0m\u001b[1;33m\u001b[0m\u001b[0m\n\u001b[0m",
      "\u001b[1;32m~\\Anaconda3\\lib\\site-packages\\matplotlib\\pyplot.py\u001b[0m in \u001b[0;36mboxplot\u001b[1;34m(x, notch, sym, vert, whis, positions, widths, patch_artist, bootstrap, usermedians, conf_intervals, meanline, showmeans, showcaps, showbox, showfliers, boxprops, labels, flierprops, medianprops, meanprops, capprops, whiskerprops, manage_xticks, autorange, zorder, hold, data)\u001b[0m\n\u001b[0;32m   2783\u001b[0m                          \u001b[0mwhiskerprops\u001b[0m\u001b[1;33m=\u001b[0m\u001b[0mwhiskerprops\u001b[0m\u001b[1;33m,\u001b[0m\u001b[1;33m\u001b[0m\u001b[0m\n\u001b[0;32m   2784\u001b[0m                          \u001b[0mmanage_xticks\u001b[0m\u001b[1;33m=\u001b[0m\u001b[0mmanage_xticks\u001b[0m\u001b[1;33m,\u001b[0m \u001b[0mautorange\u001b[0m\u001b[1;33m=\u001b[0m\u001b[0mautorange\u001b[0m\u001b[1;33m,\u001b[0m\u001b[1;33m\u001b[0m\u001b[0m\n\u001b[1;32m-> 2785\u001b[1;33m                          zorder=zorder, data=data)\n\u001b[0m\u001b[0;32m   2786\u001b[0m     \u001b[1;32mfinally\u001b[0m\u001b[1;33m:\u001b[0m\u001b[1;33m\u001b[0m\u001b[0m\n\u001b[0;32m   2787\u001b[0m         \u001b[0max\u001b[0m\u001b[1;33m.\u001b[0m\u001b[0m_hold\u001b[0m \u001b[1;33m=\u001b[0m \u001b[0mwashold\u001b[0m\u001b[1;33m\u001b[0m\u001b[0m\n",
      "\u001b[1;32m~\\Anaconda3\\lib\\site-packages\\matplotlib\\__init__.py\u001b[0m in \u001b[0;36minner\u001b[1;34m(ax, *args, **kwargs)\u001b[0m\n\u001b[0;32m   1895\u001b[0m                     warnings.warn(msg % (label_namer, func.__name__),\n\u001b[0;32m   1896\u001b[0m                                   RuntimeWarning, stacklevel=2)\n\u001b[1;32m-> 1897\u001b[1;33m             \u001b[1;32mreturn\u001b[0m \u001b[0mfunc\u001b[0m\u001b[1;33m(\u001b[0m\u001b[0max\u001b[0m\u001b[1;33m,\u001b[0m \u001b[1;33m*\u001b[0m\u001b[0margs\u001b[0m\u001b[1;33m,\u001b[0m \u001b[1;33m**\u001b[0m\u001b[0mkwargs\u001b[0m\u001b[1;33m)\u001b[0m\u001b[1;33m\u001b[0m\u001b[0m\n\u001b[0m\u001b[0;32m   1898\u001b[0m         \u001b[0mpre_doc\u001b[0m \u001b[1;33m=\u001b[0m \u001b[0minner\u001b[0m\u001b[1;33m.\u001b[0m\u001b[0m__doc__\u001b[0m\u001b[1;33m\u001b[0m\u001b[0m\n\u001b[0;32m   1899\u001b[0m         \u001b[1;32mif\u001b[0m \u001b[0mpre_doc\u001b[0m \u001b[1;32mis\u001b[0m \u001b[1;32mNone\u001b[0m\u001b[1;33m:\u001b[0m\u001b[1;33m\u001b[0m\u001b[0m\n",
      "\u001b[1;32m~\\Anaconda3\\lib\\site-packages\\matplotlib\\axes\\_axes.py\u001b[0m in \u001b[0;36mboxplot\u001b[1;34m(self, x, notch, sym, vert, whis, positions, widths, patch_artist, bootstrap, usermedians, conf_intervals, meanline, showmeans, showcaps, showbox, showfliers, boxprops, labels, flierprops, medianprops, meanprops, capprops, whiskerprops, manage_xticks, autorange, zorder)\u001b[0m\n\u001b[0;32m   3272\u001b[0m             \u001b[0mbootstrap\u001b[0m \u001b[1;33m=\u001b[0m \u001b[0mrcParams\u001b[0m\u001b[1;33m[\u001b[0m\u001b[1;34m'boxplot.bootstrap'\u001b[0m\u001b[1;33m]\u001b[0m\u001b[1;33m\u001b[0m\u001b[0m\n\u001b[0;32m   3273\u001b[0m         bxpstats = cbook.boxplot_stats(x, whis=whis, bootstrap=bootstrap,\n\u001b[1;32m-> 3274\u001b[1;33m                                        labels=labels, autorange=autorange)\n\u001b[0m\u001b[0;32m   3275\u001b[0m         \u001b[1;32mif\u001b[0m \u001b[0mnotch\u001b[0m \u001b[1;32mis\u001b[0m \u001b[1;32mNone\u001b[0m\u001b[1;33m:\u001b[0m\u001b[1;33m\u001b[0m\u001b[0m\n\u001b[0;32m   3276\u001b[0m             \u001b[0mnotch\u001b[0m \u001b[1;33m=\u001b[0m \u001b[0mrcParams\u001b[0m\u001b[1;33m[\u001b[0m\u001b[1;34m'boxplot.notch'\u001b[0m\u001b[1;33m]\u001b[0m\u001b[1;33m\u001b[0m\u001b[0m\n",
      "\u001b[1;32m~\\Anaconda3\\lib\\site-packages\\matplotlib\\cbook.py\u001b[0m in \u001b[0;36mboxplot_stats\u001b[1;34m(X, whis, bootstrap, labels, autorange)\u001b[0m\n\u001b[0;32m   1992\u001b[0m \u001b[1;33m\u001b[0m\u001b[0m\n\u001b[0;32m   1993\u001b[0m     \u001b[1;31m# convert X to a list of lists\u001b[0m\u001b[1;33m\u001b[0m\u001b[1;33m\u001b[0m\u001b[0m\n\u001b[1;32m-> 1994\u001b[1;33m     \u001b[0mX\u001b[0m \u001b[1;33m=\u001b[0m \u001b[0m_reshape_2D\u001b[0m\u001b[1;33m(\u001b[0m\u001b[0mX\u001b[0m\u001b[1;33m)\u001b[0m\u001b[1;33m\u001b[0m\u001b[0m\n\u001b[0m\u001b[0;32m   1995\u001b[0m \u001b[1;33m\u001b[0m\u001b[0m\n\u001b[0;32m   1996\u001b[0m     \u001b[0mncols\u001b[0m \u001b[1;33m=\u001b[0m \u001b[0mlen\u001b[0m\u001b[1;33m(\u001b[0m\u001b[0mX\u001b[0m\u001b[1;33m)\u001b[0m\u001b[1;33m\u001b[0m\u001b[0m\n",
      "\u001b[1;32m~\\Anaconda3\\lib\\site-packages\\matplotlib\\cbook.py\u001b[0m in \u001b[0;36m_reshape_2D\u001b[1;34m(X)\u001b[0m\n\u001b[0;32m   2240\u001b[0m         \u001b[1;31m# one item\u001b[0m\u001b[1;33m\u001b[0m\u001b[1;33m\u001b[0m\u001b[0m\n\u001b[0;32m   2241\u001b[0m         \u001b[1;32mif\u001b[0m \u001b[0mlen\u001b[0m\u001b[1;33m(\u001b[0m\u001b[0mX\u001b[0m\u001b[1;33m.\u001b[0m\u001b[0mshape\u001b[0m\u001b[1;33m)\u001b[0m \u001b[1;33m==\u001b[0m \u001b[1;36m1\u001b[0m\u001b[1;33m:\u001b[0m\u001b[1;33m\u001b[0m\u001b[0m\n\u001b[1;32m-> 2242\u001b[1;33m             \u001b[1;32mif\u001b[0m \u001b[0mhasattr\u001b[0m\u001b[1;33m(\u001b[0m\u001b[0mX\u001b[0m\u001b[1;33m[\u001b[0m\u001b[1;36m0\u001b[0m\u001b[1;33m]\u001b[0m\u001b[1;33m,\u001b[0m \u001b[1;34m'shape'\u001b[0m\u001b[1;33m)\u001b[0m\u001b[1;33m:\u001b[0m\u001b[1;33m\u001b[0m\u001b[0m\n\u001b[0m\u001b[0;32m   2243\u001b[0m                 \u001b[0mX\u001b[0m \u001b[1;33m=\u001b[0m \u001b[0mlist\u001b[0m\u001b[1;33m(\u001b[0m\u001b[0mX\u001b[0m\u001b[1;33m)\u001b[0m\u001b[1;33m\u001b[0m\u001b[0m\n\u001b[0;32m   2244\u001b[0m             \u001b[1;32melse\u001b[0m\u001b[1;33m:\u001b[0m\u001b[1;33m\u001b[0m\u001b[0m\n",
      "\u001b[1;32m~\\Anaconda3\\lib\\site-packages\\pandas\\core\\series.py\u001b[0m in \u001b[0;36m__getitem__\u001b[1;34m(self, key)\u001b[0m\n\u001b[0;32m    599\u001b[0m         \u001b[0mkey\u001b[0m \u001b[1;33m=\u001b[0m \u001b[0mcom\u001b[0m\u001b[1;33m.\u001b[0m\u001b[0m_apply_if_callable\u001b[0m\u001b[1;33m(\u001b[0m\u001b[0mkey\u001b[0m\u001b[1;33m,\u001b[0m \u001b[0mself\u001b[0m\u001b[1;33m)\u001b[0m\u001b[1;33m\u001b[0m\u001b[0m\n\u001b[0;32m    600\u001b[0m         \u001b[1;32mtry\u001b[0m\u001b[1;33m:\u001b[0m\u001b[1;33m\u001b[0m\u001b[0m\n\u001b[1;32m--> 601\u001b[1;33m             \u001b[0mresult\u001b[0m \u001b[1;33m=\u001b[0m \u001b[0mself\u001b[0m\u001b[1;33m.\u001b[0m\u001b[0mindex\u001b[0m\u001b[1;33m.\u001b[0m\u001b[0mget_value\u001b[0m\u001b[1;33m(\u001b[0m\u001b[0mself\u001b[0m\u001b[1;33m,\u001b[0m \u001b[0mkey\u001b[0m\u001b[1;33m)\u001b[0m\u001b[1;33m\u001b[0m\u001b[0m\n\u001b[0m\u001b[0;32m    602\u001b[0m \u001b[1;33m\u001b[0m\u001b[0m\n\u001b[0;32m    603\u001b[0m             \u001b[1;32mif\u001b[0m \u001b[1;32mnot\u001b[0m \u001b[0mis_scalar\u001b[0m\u001b[1;33m(\u001b[0m\u001b[0mresult\u001b[0m\u001b[1;33m)\u001b[0m\u001b[1;33m:\u001b[0m\u001b[1;33m\u001b[0m\u001b[0m\n",
      "\u001b[1;32m~\\Anaconda3\\lib\\site-packages\\pandas\\core\\indexes\\base.py\u001b[0m in \u001b[0;36mget_value\u001b[1;34m(self, series, key)\u001b[0m\n\u001b[0;32m   2426\u001b[0m         \u001b[1;32mtry\u001b[0m\u001b[1;33m:\u001b[0m\u001b[1;33m\u001b[0m\u001b[0m\n\u001b[0;32m   2427\u001b[0m             return self._engine.get_value(s, k,\n\u001b[1;32m-> 2428\u001b[1;33m                                           tz=getattr(series.dtype, 'tz', None))\n\u001b[0m\u001b[0;32m   2429\u001b[0m         \u001b[1;32mexcept\u001b[0m \u001b[0mKeyError\u001b[0m \u001b[1;32mas\u001b[0m \u001b[0me1\u001b[0m\u001b[1;33m:\u001b[0m\u001b[1;33m\u001b[0m\u001b[0m\n\u001b[0;32m   2430\u001b[0m             \u001b[1;32mif\u001b[0m \u001b[0mlen\u001b[0m\u001b[1;33m(\u001b[0m\u001b[0mself\u001b[0m\u001b[1;33m)\u001b[0m \u001b[1;33m>\u001b[0m \u001b[1;36m0\u001b[0m \u001b[1;32mand\u001b[0m \u001b[0mself\u001b[0m\u001b[1;33m.\u001b[0m\u001b[0minferred_type\u001b[0m \u001b[1;32min\u001b[0m \u001b[1;33m[\u001b[0m\u001b[1;34m'integer'\u001b[0m\u001b[1;33m,\u001b[0m \u001b[1;34m'boolean'\u001b[0m\u001b[1;33m]\u001b[0m\u001b[1;33m:\u001b[0m\u001b[1;33m\u001b[0m\u001b[0m\n",
      "\u001b[1;32mpandas\\_libs\\index.pyx\u001b[0m in \u001b[0;36mpandas._libs.index.IndexEngine.get_value (pandas\\_libs\\index.c:4363)\u001b[1;34m()\u001b[0m\n",
      "\u001b[1;32mpandas\\_libs\\index.pyx\u001b[0m in \u001b[0;36mpandas._libs.index.IndexEngine.get_value (pandas\\_libs\\index.c:4046)\u001b[1;34m()\u001b[0m\n",
      "\u001b[1;32mpandas\\_libs\\index.pyx\u001b[0m in \u001b[0;36mpandas._libs.index.IndexEngine.get_loc (pandas\\_libs\\index.c:5085)\u001b[1;34m()\u001b[0m\n",
      "\u001b[1;32mpandas\\_libs\\hashtable_class_helper.pxi\u001b[0m in \u001b[0;36mpandas._libs.hashtable.Int64HashTable.get_item (pandas\\_libs\\hashtable.c:13913)\u001b[1;34m()\u001b[0m\n",
      "\u001b[1;32mpandas\\_libs\\hashtable_class_helper.pxi\u001b[0m in \u001b[0;36mpandas._libs.hashtable.Int64HashTable.get_item (pandas\\_libs\\hashtable.c:13857)\u001b[1;34m()\u001b[0m\n",
      "\u001b[1;31mKeyError\u001b[0m: 0"
     ]
    },
    {
     "data": {
      "image/png": "[encoded data removed]",
      "text/plain": [
       "<matplotlib.figure.Figure at 0x2168f0f0cc0>"
      ]
     },
     "metadata": {},
     "output_type": "display_data"
    }
   ],
   "source": [
    "for grpName in uniques:\n",
    "    elem = df[df.ds_acao == grpName]\n",
    "    dfElem = pd.DataFrame(elem)['vl_despesa']\n",
    "    plt.boxplot(dfElem, 0,'ro', 0, 2.25)"
   ]
  },
  {
   "cell_type": "code",
   "execution_count": 10,
   "metadata": {},
   "outputs": [
    {
     "data": {
      "image/png": "[encoded data removed]",
      "text/plain": [
       "<matplotlib.figure.Figure at 0x2168f0cfd68>"
      ]
     },
     "metadata": {},
     "output_type": "display_data"
    }
   ],
   "source": [
    "#for grpName in uniques:\n",
    "#elem = df[df.ds_acao == grpName]\n",
    "elem = data\n",
    "dfElem = pd.DataFrame(elem)\n",
    "axisLst = ['id_despesa_detalhe', 'vl_despesa', 'ds_subfuncao_governo']\n",
    "color = ['r','b','k'] # marcadores de cor\n",
    "mark = ['s','o','^'] # marcadores simbólicos\n",
    "\n",
    "dbscan = cluster.DBSCAN()\n",
    "extrData = [\n",
    "            dfElem[axisLst[0]],\n",
    "            dfElem[axisLst[1]],\n",
    "            dfElem[axisLst[1]]\n",
    "           ]\n",
    "\n",
    "X_iris3D = extrData\n",
    "\n",
    "dbscan.fit(X_iris3D)\n",
    "\n",
    "\n",
    "fig = plt.figure()\n",
    "ax = fig.add_subplot(111, projection='3d') # 111 corresponde às coordendas i,j,k de possíveis subfiguras.\n",
    "color = ['r','b','k'] # marcadores de cor\n",
    "mark = ['s','o','^'] # marcadores simbólicos\n",
    "for i in range(len(X_iris3D)):\n",
    "    ax.scatter(X_iris3D[i][0],X_iris3D[i][1],X_iris3D[i][2],c=color[dbscan.labels_[i]],marker=mark[dbscan.labels_[i]])\n",
    "\n",
    "ax.set_xlabel('X Label') # rótulos dos eixos\n",
    "ax.set_ylabel('Y Label')\n",
    "ax.set_zlabel('Z Label')\n",
    "plt.show()\n"
   ]
  },
  {
   "cell_type": "code",
   "execution_count": null,
   "metadata": {},
   "outputs": [],
   "source": [
    "    "
   ]
  },
  {
   "cell_type": "code",
   "execution_count": 11,
   "metadata": {
    "collapsed": true
   },
   "outputs": [],
   "source": [
    "for grpName in uniques:\n",
    "    elem = df[df.ds_acao == grpName]\n",
    "    dfElem = pd.DataFrame(elem)\n",
    "    "
   ]
  },
  {
   "cell_type": "code",
   "execution_count": null,
   "metadata": {
    "collapsed": true
   },
   "outputs": [],
   "source": []
  },
  {
   "cell_type": "code",
   "execution_count": null,
   "metadata": {
    "collapsed": true
   },
   "outputs": [],
   "source": []
  }
 ],
 "metadata": {
  "kernelspec": {
   "display_name": "Python 3",
   "language": "python",
   "name": "python3"
  },
  "language_info": {
   "codemirror_mode": {
    "name": "ipython",
    "version": 3
   },
   "file_extension": ".py",
   "mimetype": "text/x-python",
   "name": "python",
   "nbconvert_exporter": "python",
   "pygments_lexer": "ipython3",
   "version": "3.6.1"
  }
 },
 "nbformat": 4,
 "nbformat_minor": 2
}
