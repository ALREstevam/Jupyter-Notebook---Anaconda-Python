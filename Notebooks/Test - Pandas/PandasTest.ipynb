{
 "cells": [
  {
   "cell_type": "code",
   "execution_count": 1,
   "metadata": {
    "collapsed": true
   },
   "outputs": [],
   "source": [
    "import pandas as pd\n",
    "%matplot inline"
   ]
  },
  {
   "cell_type": "code",
   "execution_count": 2,
   "metadata": {},
   "outputs": [],
   "source": [
    "path = r'fakedata.csv'\n",
    "df = pd.read_csv(path)\n"
   ]
  },
  {
   "cell_type": "code",
   "execution_count": 3,
   "metadata": {},
   "outputs": [
    {
     "name": "stdout",
     "output_type": "stream",
     "text": [
      "   UID     Name         Type    Money\n",
      "0    0   Elioto        Outro  6809.32\n",
      "1    1     Dede  Combustivel  9885.35\n",
      "2    2   Hermes  Alimentacao  2589.81\n",
      "3    3  Faustao   Transporte  8764.46\n",
      "4    4  Faustao  Alimentacao  5953.35\n"
     ]
    }
   ],
   "source": [
    "print(df.head())"
   ]
  },
  {
   "cell_type": "code",
   "execution_count": 6,
   "metadata": {},
   "outputs": [],
   "source": [
    "df.set_index('UID', inplace=True)\n",
    "df.to_csv('newcsv.csv')"
   ]
  },
  {
   "cell_type": "code",
   "execution_count": 10,
   "metadata": {},
   "outputs": [
    {
     "name": "stdout",
     "output_type": "stream",
     "text": [
      "        Name         Type    Money\n",
      "UID                               \n",
      "0     Elioto        Outro  6809.32\n",
      "1       Dede  Combustivel  9885.35\n",
      "2     Hermes  Alimentacao  2589.81\n",
      "3    Faustao   Transporte  8764.46\n",
      "4    Faustao  Alimentacao  5953.35\n"
     ]
    }
   ],
   "source": [
    "df = pd.read_csv(r'newcsv.csv', index_col=0)\n",
    "print(df.head())"
   ]
  },
  {
   "cell_type": "code",
   "execution_count": 14,
   "metadata": {},
   "outputs": [
    {
     "name": "stdout",
     "output_type": "stream",
     "text": [
      "        NAME         TYPE    MONEY\n",
      "UID                               \n",
      "0     Elioto        Outro  6809.32\n",
      "1       Dede  Combustivel  9885.35\n",
      "2     Hermes  Alimentacao  2589.81\n",
      "3    Faustao   Transporte  8764.46\n",
      "4    Faustao  Alimentacao  5953.35\n"
     ]
    }
   ],
   "source": [
    "df.columns = ['NAME', 'TYPE', 'MONEY']\n",
    "print(df.head())"
   ]
  },
  {
   "cell_type": "code",
   "execution_count": null,
   "metadata": {
    "collapsed": true
   },
   "outputs": [],
   "source": []
  }
 ],
 "metadata": {
  "kernelspec": {
   "display_name": "Python 3",
   "language": "python",
   "name": "python3"
  },
  "language_info": {
   "codemirror_mode": {
    "name": "ipython",
    "version": 3
   },
   "file_extension": ".py",
   "mimetype": "text/x-python",
   "name": "python",
   "nbconvert_exporter": "python",
   "pygments_lexer": "ipython3",
   "version": "3.6.1"
  }
 },
 "nbformat": 4,
 "nbformat_minor": 2
}
